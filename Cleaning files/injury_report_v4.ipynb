{
 "cells": [
  {
   "cell_type": "code",
   "execution_count": 1,
   "metadata": {},
   "outputs": [],
   "source": [
    "from splinter import Browser\n",
    "from bs4 import BeautifulSoup as soup\n",
    "import pandas as pd"
   ]
  },
  {
   "cell_type": "code",
   "execution_count": 2,
   "metadata": {},
   "outputs": [],
   "source": [
    "def extract_injury_table(url):\n",
    "    browser = Browser('chrome')\n",
    "    browser.visit(url)\n",
    "    html = browser.html\n",
    "    html_soup = soup(html, \"html.parser\")\n",
    "    \n",
    "    browser.links.find_by_partial_text(\"Single Grid\").click()\n",
    "    dropdown = browser.find_by_tag('select')\n",
    "    dropdown.select_by_text('Infinity')\n",
    "    \n",
    "    # Parse the HTML page\n",
    "    html = browser.html\n",
    "    html_soup = soup(html, \"html.parser\")\n",
    "    tables = html_soup.find_all('div', class_=\"table-scroll\")\n",
    "    \n",
    "    # Extract headers and data\n",
    "    rows = tables[0].find_all('tr')\n",
    "    headers = [x.text for x in rows[0].find_all('th')]\n",
    "    \n",
    "    # Loop through  each table\n",
    "    injury_table = []\n",
    "    for table in tables:\n",
    "        rows = table.find_all('tr')\n",
    "        for row in rows[1:]:\n",
    "            injury_table.append([val.text for val in row.find_all('td')])\n",
    "    \n",
    "    browser.quit()\n",
    "    \n",
    "    # Convert to DataFrame\n",
    "    df = pd.DataFrame(injury_table, columns=headers)\n",
    "    \n",
    "    return df\n",
    "    \n",
    "    "
   ]
  },
  {
   "cell_type": "code",
   "execution_count": 3,
   "metadata": {},
   "outputs": [],
   "source": [
    "# Define lists of URLs\n",
    "urls = [\"https://www.fangraphs.com/roster-resource/injury-report?groupby=all&timeframe=all&season=2024\",\n",
    "        \"https://www.fangraphs.com/roster-resource/injury-report?groupby=all&timeframe=all&season=2023\",\n",
    "        \"https://www.fangraphs.com/roster-resource/injury-report?groupby=all&timeframe=all&season=2022\",\n",
    "        \"https://www.fangraphs.com/roster-resource/injury-report?groupby=all&timeframe=all&season=2021\",\n",
    "        \"https://www.fangraphs.com/roster-resource/injury-report?groupby=all&timeframe=all&season=2020\"]"
   ]
  },
  {
   "cell_type": "code",
   "execution_count": 4,
   "metadata": {},
   "outputs": [
    {
     "ename": "DriverNotFoundError",
     "evalue": "Driver for chrome was not found.",
     "output_type": "error",
     "traceback": [
      "\u001b[1;31m---------------------------------------------------------------------------\u001b[0m",
      "\u001b[1;31mDriverNotFoundError\u001b[0m                       Traceback (most recent call last)",
      "Cell \u001b[1;32mIn[4], line 5\u001b[0m\n\u001b[0;32m      3\u001b[0m \u001b[38;5;28;01mfor\u001b[39;00m url \u001b[38;5;129;01min\u001b[39;00m urls:\n\u001b[0;32m      4\u001b[0m     year \u001b[38;5;241m=\u001b[39m url\u001b[38;5;241m.\u001b[39msplit(\u001b[38;5;124m\"\u001b[39m\u001b[38;5;124m=\u001b[39m\u001b[38;5;124m\"\u001b[39m)[\u001b[38;5;241m-\u001b[39m\u001b[38;5;241m1\u001b[39m]  \u001b[38;5;66;03m# Extract the year from the URL\u001b[39;00m\n\u001b[1;32m----> 5\u001b[0m     df \u001b[38;5;241m=\u001b[39m \u001b[43mextract_injury_table\u001b[49m\u001b[43m(\u001b[49m\u001b[43murl\u001b[49m\u001b[43m)\u001b[49m\n\u001b[0;32m      6\u001b[0m     df[\u001b[38;5;124m'\u001b[39m\u001b[38;5;124myear\u001b[39m\u001b[38;5;124m'\u001b[39m] \u001b[38;5;241m=\u001b[39m year  \u001b[38;5;66;03m# Add a new column \"year\" with the extracted year\u001b[39;00m\n\u001b[0;32m      7\u001b[0m     \u001b[38;5;28mprint\u001b[39m(\u001b[38;5;124mf\u001b[39m\u001b[38;5;124m\"\u001b[39m\u001b[38;5;124mTable extracted from \u001b[39m\u001b[38;5;132;01m{\u001b[39;00murl\u001b[38;5;132;01m}\u001b[39;00m\u001b[38;5;124m for year \u001b[39m\u001b[38;5;132;01m{\u001b[39;00myear\u001b[38;5;132;01m}\u001b[39;00m\u001b[38;5;124m:\u001b[39m\u001b[38;5;124m\"\u001b[39m)\n",
      "Cell \u001b[1;32mIn[2], line 2\u001b[0m, in \u001b[0;36mextract_injury_table\u001b[1;34m(url)\u001b[0m\n\u001b[0;32m      1\u001b[0m \u001b[38;5;28;01mdef\u001b[39;00m \u001b[38;5;21mextract_injury_table\u001b[39m(url):\n\u001b[1;32m----> 2\u001b[0m     browser \u001b[38;5;241m=\u001b[39m \u001b[43mBrowser\u001b[49m\u001b[43m(\u001b[49m\u001b[38;5;124;43m'\u001b[39;49m\u001b[38;5;124;43mchrome\u001b[39;49m\u001b[38;5;124;43m'\u001b[39;49m\u001b[43m)\u001b[49m\n\u001b[0;32m      3\u001b[0m     browser\u001b[38;5;241m.\u001b[39mvisit(url)\n\u001b[0;32m      4\u001b[0m     html \u001b[38;5;241m=\u001b[39m browser\u001b[38;5;241m.\u001b[39mhtml\n",
      "File \u001b[1;32mc:\\conda\\Lib\\site-packages\\splinter\\browser.py:128\u001b[0m, in \u001b[0;36mBrowser\u001b[1;34m(driver_name, retry_count, config, *args, **kwargs)\u001b[0m\n\u001b[0;32m    125\u001b[0m     \u001b[38;5;28;01mraise\u001b[39;00m DriverNotFoundError(\u001b[38;5;124mf\u001b[39m\u001b[38;5;124m\"\u001b[39m\u001b[38;5;132;01m{\u001b[39;00mdriver_name\u001b[38;5;132;01m}\u001b[39;00m\u001b[38;5;124m is not a recognized driver.\u001b[39m\u001b[38;5;124m\"\u001b[39m)\n\u001b[0;32m    127\u001b[0m \u001b[38;5;28;01mif\u001b[39;00m driver \u001b[38;5;129;01mis\u001b[39;00m \u001b[38;5;28;01mNone\u001b[39;00m:\n\u001b[1;32m--> 128\u001b[0m     \u001b[38;5;28;01mraise\u001b[39;00m DriverNotFoundError(\u001b[38;5;124mf\u001b[39m\u001b[38;5;124m\"\u001b[39m\u001b[38;5;124mDriver for \u001b[39m\u001b[38;5;132;01m{\u001b[39;00mdriver_name\u001b[38;5;132;01m}\u001b[39;00m\u001b[38;5;124m was not found.\u001b[39m\u001b[38;5;124m\"\u001b[39m)\n\u001b[0;32m    130\u001b[0m \u001b[38;5;28;01mreturn\u001b[39;00m get_driver(driver, retry_count\u001b[38;5;241m=\u001b[39mretry_count, config\u001b[38;5;241m=\u001b[39mconfig, \u001b[38;5;241m*\u001b[39margs, \u001b[38;5;241m*\u001b[39m\u001b[38;5;241m*\u001b[39mkwargs)\n",
      "\u001b[1;31mDriverNotFoundError\u001b[0m: Driver for chrome was not found."
     ]
    }
   ],
   "source": [
    "# Extract injury tables from each URL \n",
    "dfs = []\n",
    "for url in urls:\n",
    "    year = url.split(\"=\")[-1]  # Extract the year from the URL\n",
    "    df = extract_injury_table(url)\n",
    "    df['year'] = year  # Add a new column \"year\" with the extracted year\n",
    "    print(f\"Table extracted from {url} for year {year}:\")\n",
    "    print(df)\n",
    "    print(\"Shape of the DataFrame:\")\n",
    "    print(df.shape)\n",
    "    print(\"\\n\")\n",
    "\n",
    "    # Append the extracted DataFrame to the list\n",
    "    dfs.append(df)\n",
    "\n",
    "# Combine all DataFrames into a single DataFrame\n",
    "df_combined = pd.concat(dfs)\n",
    "\n",
    "# Display the combined DataFrame with the year column\n",
    "print(\"Combined DataFrame for all years:\")\n",
    "print(df_combined)\n",
    "print(\"Shape of the combined DataFrame:\")\n",
    "print(df_combined.shape) \n",
    "    \n",
    "# Define dictionary of URLs and corresponding element IDs to close\n",
    "urls_elements = {\n",
    "    \"https://www.fangraphs.com/roster-resource/injury-report?groupby=all&timeframe=all&season=2024\": \"element_id_2024\",\n",
    "    \"https://www.fangraphs.com/roster-resource/injury-report?groupby=all&timeframe=all&season=2023\": \"element_id_2023\",\n",
    "    \"https://www.fangraphs.com/roster-resource/injury-report?groupby=all&timeframe=all&season=2022\": \"element_id_2022\",\n",
    "    \"https://www.fangraphs.com/roster-resource/injury-report?groupby=all&timeframe=all&season=2021\": \"element_id_2021\",\n",
    "    \"https://www.fangraphs.com/roster-resource/injury-report?groupby=all&timeframe=all&season=2020\": \"element_id_2020\"\n",
    "}\n",
    "\n",
    "# Function to close pop-up element if present on a given URL\n",
    "def close_element_if_present(url, element_id):\n",
    "    browser = Browser(\"chrome\")\n",
    "    browser.visit(url)\n",
    "    \n",
    "    if browser.is_element_present_by_id(element_id):\n",
    "        time.sleep(2)                # Wait time before clicking the element\n",
    "        browser.find_by_id(element_id).first.click()\n",
    "    \n",
    "    browser.quit()\n",
    "\n",
    "    \n",
    "\n",
    "# Close elements for each URL\n",
    "for url, element_id in urls_elements.items():\n",
    "    close_element_if_present(url, element_id)\n",
    "\n",
    "# Save the DataFrame to a CSV file  - df is saved below\n",
    "\n",
    "\n",
    "## i am not sure but this bit of code is not running correctly and wont see the chrome driver even know i have tried alot of different methods to make it see it"
   ]
  },
  {
   "cell_type": "code",
   "execution_count": 54,
   "metadata": {},
   "outputs": [
    {
     "ename": "NameError",
     "evalue": "name 'df_combined' is not defined",
     "output_type": "error",
     "traceback": [
      "\u001b[1;31m---------------------------------------------------------------------------\u001b[0m",
      "\u001b[1;31mNameError\u001b[0m                                 Traceback (most recent call last)",
      "Cell \u001b[1;32mIn[54], line 1\u001b[0m\n\u001b[1;32m----> 1\u001b[0m \u001b[43mdf_combined\u001b[49m\n",
      "\u001b[1;31mNameError\u001b[0m: name 'df_combined' is not defined"
     ]
    }
   ],
   "source": [
    "df_combined"
   ]
  },
  {
   "cell_type": "code",
   "execution_count": 7,
   "metadata": {},
   "outputs": [
    {
     "ename": "NameError",
     "evalue": "name 'df_combined' is not defined",
     "output_type": "error",
     "traceback": [
      "\u001b[1;31m---------------------------------------------------------------------------\u001b[0m",
      "\u001b[1;31mNameError\u001b[0m                                 Traceback (most recent call last)",
      "Cell \u001b[1;32mIn[7], line 2\u001b[0m\n\u001b[0;32m      1\u001b[0m \u001b[38;5;66;03m# Find the missing values for each column in the Data\u001b[39;00m\n\u001b[1;32m----> 2\u001b[0m missing_values \u001b[38;5;241m=\u001b[39m \u001b[43mdf_combined\u001b[49m\u001b[38;5;241m.\u001b[39misnull()\u001b[38;5;241m.\u001b[39msum()\n\u001b[0;32m      3\u001b[0m missing_values\n",
      "\u001b[1;31mNameError\u001b[0m: name 'df_combined' is not defined"
     ]
    }
   ],
   "source": [
    "# Find the missing values for each column in the Data\n",
    "missing_values = df_combined.isnull().sum()\n",
    "missing_values"
   ]
  },
  {
   "cell_type": "code",
   "execution_count": 8,
   "metadata": {},
   "outputs": [
    {
     "ename": "NameError",
     "evalue": "name 'df_combined' is not defined",
     "output_type": "error",
     "traceback": [
      "\u001b[1;31m---------------------------------------------------------------------------\u001b[0m",
      "\u001b[1;31mNameError\u001b[0m                                 Traceback (most recent call last)",
      "Cell \u001b[1;32mIn[8], line 2\u001b[0m\n\u001b[0;32m      1\u001b[0m \u001b[38;5;66;03m# Show most common injuries\u001b[39;00m\n\u001b[1;32m----> 2\u001b[0m most_common_injuries \u001b[38;5;241m=\u001b[39m \u001b[43mdf_combined\u001b[49m[\u001b[38;5;124m'\u001b[39m\u001b[38;5;124mInjury / Surgery\u001b[39m\u001b[38;5;124m'\u001b[39m]\u001b[38;5;241m.\u001b[39mvalue_counts()\u001b[38;5;241m.\u001b[39midxmax()\n\u001b[0;32m      3\u001b[0m most_common_injuries\n",
      "\u001b[1;31mNameError\u001b[0m: name 'df_combined' is not defined"
     ]
    }
   ],
   "source": [
    "# Show most common injuries\n",
    "most_common_injuries = df_combined['Injury / Surgery'].value_counts().idxmax()\n",
    "most_common_injuries"
   ]
  },
  {
   "cell_type": "code",
   "execution_count": 9,
   "metadata": {},
   "outputs": [
    {
     "ename": "NameError",
     "evalue": "name 'df_combined' is not defined",
     "output_type": "error",
     "traceback": [
      "\u001b[1;31m---------------------------------------------------------------------------\u001b[0m",
      "\u001b[1;31mNameError\u001b[0m                                 Traceback (most recent call last)",
      "Cell \u001b[1;32mIn[9], line 2\u001b[0m\n\u001b[0;32m      1\u001b[0m \u001b[38;5;66;03m# Show which team has the most injuries and what type of injuries are they\u001b[39;00m\n\u001b[1;32m----> 2\u001b[0m df_team_injuries \u001b[38;5;241m=\u001b[39m \u001b[43mdf_combined\u001b[49m\u001b[38;5;241m.\u001b[39mgroupby(\u001b[38;5;124m'\u001b[39m\u001b[38;5;124mTeam\u001b[39m\u001b[38;5;124m'\u001b[39m)[\u001b[38;5;124m'\u001b[39m\u001b[38;5;124mInjury / Surgery\u001b[39m\u001b[38;5;124m'\u001b[39m]\u001b[38;5;241m.\u001b[39mvalue_counts()\n\u001b[0;32m      3\u001b[0m df_team_injuries\n",
      "\u001b[1;31mNameError\u001b[0m: name 'df_combined' is not defined"
     ]
    }
   ],
   "source": [
    "# Show which team has the most injuries and what type of injuries are they\n",
    "df_team_injuries = df_combined.groupby('Team')['Injury / Surgery'].value_counts()\n",
    "df_team_injuries\n"
   ]
  },
  {
   "cell_type": "code",
   "execution_count": 38,
   "metadata": {},
   "outputs": [
    {
     "data": {
      "text/plain": [
       "Injury / Surgery\n",
       "                                          2021\n",
       " Vascular surgery (upper arm aneurysm)    2024\n",
       "AC joint inflammation                     2022\n",
       "Abdomen contusion                         2023\n",
       "Abdomen infection                         2024\n",
       "                                          ... \n",
       "Wrist surgery                             2021\n",
       "Wrist surgery (fracture)                  2022\n",
       "Wrist surgery (ulnar styloid fracture)    2024\n",
       "Wrist tendinitis                          2021\n",
       "Wrist tendonitis                          2023\n",
       "Length: 681, dtype: object"
      ]
     },
     "execution_count": 38,
     "metadata": {},
     "output_type": "execute_result"
    }
   ],
   "source": [
    "# df_combined\n",
    "# Most common injury for each year\n",
    "most_common_injuries_year = df_combined.groupby('year')['Injury / Surgery'].value_counts().unstack().idxmax()\n",
    "most_common_injuries_year"
   ]
  },
  {
   "cell_type": "code",
   "execution_count": 42,
   "metadata": {},
   "outputs": [
    {
     "data": {
      "text/plain": [
       "Injury / Surgery\n",
       "Elbow inflammation                 Released\n",
       "Blister on right hand              Released\n",
       "Strained hamstring                 Released\n",
       "Strained calf                   Player Pool\n",
       "Undisclosed                     Player Pool\n",
       "                                   ...     \n",
       "Fractured kneecap                 10-Day IL\n",
       "Hand surgery (torn ligament)      10-Day IL\n",
       "Chest contusion                            \n",
       "Thumb surgery (laceration)                 \n",
       "                                           \n",
       "Name: Status, Length: 681, dtype: object"
      ]
     },
     "execution_count": 42,
     "metadata": {},
     "output_type": "execute_result"
    }
   ],
   "source": [
    "# df_combined\n",
    "# Which injury takes a long time to recover from\n",
    "longest_recovery_time = df_combined.groupby('Injury / Surgery')['Status'].max().sort_values(ascending=False)\n",
    "longest_recovery_time"
   ]
  },
  {
   "cell_type": "code",
   "execution_count": 43,
   "metadata": {},
   "outputs": [],
   "source": [
    "# Save the Dataframe to a CSV file\n",
    "df_combined.to_csv('injury_report_combined_years_v4.csv', index=False)"
   ]
  },
  {
   "cell_type": "code",
   "execution_count": null,
   "metadata": {},
   "outputs": [],
   "source": []
  }
 ],
 "metadata": {
  "kernelspec": {
   "display_name": "Python 3",
   "language": "python",
   "name": "python3"
  },
  "language_info": {
   "codemirror_mode": {
    "name": "ipython",
    "version": 3
   },
   "file_extension": ".py",
   "mimetype": "text/x-python",
   "name": "python",
   "nbconvert_exporter": "python",
   "pygments_lexer": "ipython3",
   "version": "3.12.4"
  }
 },
 "nbformat": 4,
 "nbformat_minor": 2
}
