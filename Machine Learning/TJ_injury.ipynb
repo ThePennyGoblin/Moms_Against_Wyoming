{
 "cells": [
  {
   "cell_type": "code",
   "execution_count": null,
   "metadata": {},
   "outputs": [],
   "source": [
    "# import xgboost as xgb\n",
    "from sklearn.datasets import load_iris\n",
    "from sklearn.model_selection import train_test_split\n",
    "from sklearn.metrics import accuracy_score\n",
    "from sklearn.model_selection import GridSearchCV, RandomizedSearchCV\n",
    "from sklearn.ensemble import RandomForestClassifier\n",
    "import pandas as pd\n",
    "\n",
    "data = pd.read_csv(\"tj_pitching_merge.csv\")\n",
    "data\n",
    "\n",
    "# X should be the features\n",
    "X = data[\"No. TJ Surgeries\"]\n",
    "X\n",
    "\n",
    "# y should be the target\n",
    "y = data[\"pitches\"]\n",
    "y\n",
    "\n",
    "data.columns\n",
    "\n",
    "X = data[\"pitches\"]\n",
    "y = data[\"No. TJ Surgeries\"]\n",
    "\n",
    "# Split into training and testing sets\n",
    "X_train, X_test, y_train, y_test = train_test_split(X, y, test_size=0.2, random_state=1)\n",
    "\n",
    "# Initialize the RandomForest classifier\n",
    "model = RandomForestClassifier()\n",
    "# Train the model \n",
    "model.fit(X_train.values.reshape(-1, 1), y_train)\n",
    "\n",
    " # Make predictions on the test set\n",
    "y_pred = model.predict(X_test.values.reshape(-1, 1))\n",
    "\n",
    "# Evaluate accuracy\n",
    "accuracy = accuracy_score(y_test, y_pred)\n",
    "print(f\"Accuracy: {accuracy * 100:.2f}%\")"
   ]
  }
 ],
 "metadata": {
  "language_info": {
   "name": "python"
  }
 },
 "nbformat": 4,
 "nbformat_minor": 2
}
